{
 "cells": [
  {
   "cell_type": "code",
   "execution_count": 1,
   "metadata": {},
   "outputs": [],
   "source": [
    "import pandas as pd\n",
    "import numpy as np\n",
    "from imblearn.over_sampling import SMOTE\n",
    "from sklearn.preprocessing import StandardScaler\n",
    "from sklearn.model_selection import train_test_split\n",
    "from sklearn.linear_model import LogisticRegression\n",
    "from sklearn.ensemble import RandomForestClassifier\n",
    "from sklearn.ensemble import GradientBoostingClassifier\n",
    "from sklearn.model_selection import GridSearchCV\n",
    "from sklearn.metrics import confusion_matrix\n",
    "from sklearn.metrics import classification_report\n",
    "from sklearn.metrics import roc_curve, auc\n",
    "from sklearn.metrics import accuracy_score\n",
    "from sklearn.metrics import f1_score, precision_score, recall_score\n",
    "import matplotlib.pyplot as plt\n",
    "import seaborn as sns\n",
    "from collections import Counter\n",
    "import timeit\n",
    "from xgboost import XGBClassifier, plot_importance, DMatrix, plot_tree"
   ]
  },
  {
   "cell_type": "markdown",
   "metadata": {},
   "source": [
    "## Load Data and Explore Data Structure"
   ]
  },
  {
   "cell_type": "markdown",
   "metadata": {},
   "source": [
    "To save space, I will skip the exploration.\n",
    "The dataset has 28 features and one target variable. No missing values.\n",
    "V1-V28 have different scales, normalization would be needed.\n",
    "Data is imbalanced."
   ]
  },
  {
   "cell_type": "code",
   "execution_count": 2,
   "metadata": {},
   "outputs": [],
   "source": [
    "df = pd.read_csv(\"creditcard.csv\")"
   ]
  },
  {
   "cell_type": "code",
   "execution_count": 3,
   "metadata": {},
   "outputs": [
    {
     "name": "stdout",
     "output_type": "stream",
     "text": [
      "Count of Fraud: 492\n",
      "Count of Normal: 284315\n",
      "Percentage of Fraud: 0.17%\n"
     ]
    }
   ],
   "source": [
    "print(\"Count of Fraud: {}\".format(len(df[df.Class==1])))\n",
    "print(\"Count of Normal: {}\".format(len(df[df.Class==0])))\n",
    "print(\"Percentage of Fraud: {:.2f}%\".format(len(df[df.Class==1])/len(df)*100))\n",
    "## Fraud only accounts for 0.17% of total data, data is highly imbalanced."
   ]
  },
  {
   "cell_type": "markdown",
   "metadata": {},
   "source": [
    "## Normalize data and Get Features and Target vavirable"
   ]
  },
  {
   "cell_type": "code",
   "execution_count": 4,
   "metadata": {},
   "outputs": [],
   "source": [
    "## Normalize independant variables\n",
    "X = df.drop(['Time','Amount','Class'],axis=1)\n",
    "normalize = StandardScaler().fit(X)\n",
    "X_normalized = normalize.transform(X)"
   ]
  },
  {
   "cell_type": "code",
   "execution_count": 5,
   "metadata": {},
   "outputs": [],
   "source": [
    "y = df.Class"
   ]
  },
  {
   "cell_type": "markdown",
   "metadata": {},
   "source": [
    "## Feature Selection\n",
    "The features in this dataset already been transformed using PCA.\n",
    "I will use select from model in this case. Recursive feature elimination method might get better results, but would take longer time.\n",
    "I will only use LinearCSV to simplify the process in this case."
   ]
  },
  {
   "cell_type": "code",
   "execution_count": 6,
   "metadata": {},
   "outputs": [
    {
     "name": "stdout",
     "output_type": "stream",
     "text": [
      "Original Features shape:(284807, 28)\n",
      "New Features shape:(284807, 24)\n"
     ]
    }
   ],
   "source": [
    "from sklearn.svm import LinearSVC\n",
    "from sklearn.feature_selection import SelectFromModel\n",
    "print(\"Original Features shape:{}\".format(X_normalized.shape))\n",
    "lsvc = LinearSVC(C=0.01, penalty=\"l1\", dual=False).fit(X_normalized, y)\n",
    "model = SelectFromModel(lsvc, prefit=True)\n",
    "X_new = model.transform(X_normalized)\n",
    "print(\"New Features shape:{}\".format(X_new.shape))"
   ]
  },
  {
   "cell_type": "markdown",
   "metadata": {},
   "source": [
    "## Split data into training and test"
   ]
  },
  {
   "cell_type": "code",
   "execution_count": 7,
   "metadata": {},
   "outputs": [],
   "source": [
    "X_train,X_test,y_train,y_test=train_test_split(X_new,y,test_size=0.3,random_state=1234)"
   ]
  },
  {
   "cell_type": "markdown",
   "metadata": {},
   "source": [
    "## Deal with imbalanced data\n",
    "### 1. Use SMOTE to do oversampling\n",
    "Undersampling would lose some information while oversampling might tend to overfitting.\n",
    "I will compare oversampling method with cost sensitive method with a simple logistic model."
   ]
  },
  {
   "cell_type": "code",
   "execution_count": 8,
   "metadata": {},
   "outputs": [
    {
     "name": "stdout",
     "output_type": "stream",
     "text": [
      "Original dataset shape Counter({0: 199013, 1: 351})\n",
      "Resampled dataset shape Counter({0: 199013, 1: 199013})\n"
     ]
    }
   ],
   "source": [
    "sm = SMOTE(random_state=12, kind='regular', ratio = 'auto')\n",
    "X_train_res, y_train_res = sm.fit_sample(X_train, y_train)\n",
    "\n",
    "print('Original dataset shape {}'.format(Counter(y_train)))\n",
    "print('Resampled dataset shape {}'.format(Counter(y_train_res)))"
   ]
  },
  {
   "cell_type": "markdown",
   "metadata": {},
   "source": [
    "### 2. Set cost for misclassification \n",
    "Add different cost weights for misclassification in each class, penalizing the misclassification of minority class.\n",
    "I will set class_weight in each model."
   ]
  },
  {
   "cell_type": "markdown",
   "metadata": {},
   "source": [
    "### 3. Choose appropriate measures. \n",
    "I will tune and select best parameters for each model based on F measure, which measures both the precision and recall.\n",
    "I will also select the most suitable model for my objectives."
   ]
  },
  {
   "cell_type": "markdown",
   "metadata": {},
   "source": [
    "### Define Measures for Classification"
   ]
  },
  {
   "cell_type": "code",
   "execution_count": 9,
   "metadata": {},
   "outputs": [],
   "source": [
    "def classifier_measures(y_test,model_pred):\n",
    "    # output confusion matrix\n",
    "    print (\"-------------------------------------Accuracy-----------------------------------------\")\n",
    "    Accuracy = accuracy_score(y_test, model_pred)\n",
    "    print (\"Accuracy:\",Accuracy)\n",
    "    print (\"---------------------------------Confusion Matrix-------------------------------------\")\n",
    "    model_matrix = confusion_matrix(y_test, model_pred)\n",
    "    # print ('Confusion matrix:\\n',model_matrix)\n",
    "    fig= plt.figure(figsize=(6,3))# to plot the graph\n",
    "    print(\"TP\",model_matrix[1,1,]) # no of Fraud transaction which are predicted Fraud\n",
    "    print(\"TN\",model_matrix[0,0]) # no. of normal transaction which are predited normal\n",
    "    print(\"FP\",model_matrix[0,1]) # no of normal transaction which are predicted Fraud\n",
    "    print(\"FN\",model_matrix[1,0]) # no of Fraud Transaction which are predicted normal\n",
    "    sns.heatmap(model_matrix,cmap=\"coolwarm_r\",annot=True,linewidths=0.5)\n",
    "    plt.title(\"Confusion_matrix\")\n",
    "    plt.xlabel(\"Predicted_class\")\n",
    "    plt.ylabel(\"Real class\")\n",
    "    plt.show()\n",
    "    \n",
    "    print()\n",
    "    print (\"--------------------------------Precession and Recall---------------------------------\")\n",
    "    target_names = ['Normal',\"Fraud\"]\n",
    "    print(classification_report(y_test, model_pred, target_names=target_names))"
   ]
  },
  {
   "cell_type": "markdown",
   "metadata": {},
   "source": [
    "## Compare results from SMOTE and class_weight"
   ]
  },
  {
   "cell_type": "markdown",
   "metadata": {},
   "source": [
    "### Logistic Regression with SMOTE"
   ]
  },
  {
   "cell_type": "code",
   "execution_count": 10,
   "metadata": {},
   "outputs": [
    {
     "name": "stdout",
     "output_type": "stream",
     "text": [
      "___________________________________Model Selection_____________________________________\n",
      "Best estimator found by grid search: LogisticRegression(C=1, class_weight=None, dual=False, fit_intercept=True,\n",
      "          intercept_scaling=1, max_iter=100, multi_class='ovr', n_jobs=1,\n",
      "          penalty='l2', random_state=None, solver='liblinear', tol=0.0001,\n",
      "          verbose=0, warm_start=False)\n",
      "Best accuracy score found by grid search: 0.936858516106\n",
      "\n",
      "_________________________________Model Prediction______________________________________\n",
      "F1-measure: 0.0936819172113\n",
      "\n",
      "-------------------------------------Accuracy-----------------------------------------\n",
      "Accuracy: 0.970787542572\n",
      "---------------------------------Confusion Matrix-------------------------------------\n",
      "TP 129\n",
      "TN 82818\n",
      "FP 2484\n",
      "FN 12\n"
     ]
    },
    {
     "data": {
      "image/png": "[encoded data removed]",
      "text/plain": [
       "<matplotlib.figure.Figure at 0x1f297352588>"
      ]
     },
     "metadata": {},
     "output_type": "display_data"
    },
    {
     "name": "stdout",
     "output_type": "stream",
     "text": [
      "\n",
      "--------------------------------Precession and Recall---------------------------------\n",
      "             precision    recall  f1-score   support\n",
      "\n",
      "     Normal       1.00      0.97      0.99     85302\n",
      "      Fraud       0.05      0.91      0.09       141\n",
      "\n",
      "avg / total       1.00      0.97      0.98     85443\n",
      "\n"
     ]
    }
   ],
   "source": [
    "# Initialize classifier\n",
    "lgr_b = LogisticRegression()\n",
    "\n",
    "# Declare parameters to tune\n",
    "C=np.arange(1,11,2)\n",
    "lgr_b_params = {'C':C}\n",
    "lgr_b_gs = GridSearchCV(lgr_b,lgr_b_params,scoring='f1',cv=5)\n",
    "lgr_b_gs.fit(X_train_res,y_train_res)\n",
    "print (\"___________________________________Model Selection_____________________________________\")\n",
    "print (\"Best estimator found by grid search:\",lgr_b_gs.best_estimator_)\n",
    "print (\"Best accuracy score found by grid search:\",lgr_b_gs.best_score_)\n",
    "print ()\n",
    "\n",
    "# Predict new values using best model derived from cross validation and test performance on the test set\n",
    "lgr_b_pred = lgr_b_gs.predict(X_test)\n",
    "lgr_b_prob = lgr_b_gs.predict_proba(X_test)\n",
    "lgr_b_score = lgr_b_gs.score(X_test, y_test)\n",
    "print (\"_________________________________Model Prediction______________________________________\")\n",
    "print ('F1-measure:', lgr_b_score)\n",
    "print ()\n",
    "classifier_measures(y_test,lgr_b_pred)"
   ]
  },
  {
   "cell_type": "code",
   "execution_count": 11,
   "metadata": {},
   "outputs": [
    {
     "name": "stdout",
     "output_type": "stream",
     "text": [
      "Fitting Time: 112.34885131647475 seconds\n"
     ]
    }
   ],
   "source": [
    "start = timeit.default_timer()\n",
    "lgr_b_gs.fit(X_train_res, y_train_res)\n",
    "stop = timeit.default_timer()\n",
    "print(\"Fitting Time: %s seconds\" % (stop - start))"
   ]
  },
  {
   "cell_type": "markdown",
   "metadata": {},
   "source": [
    "### Logistic Regression with class_weight"
   ]
  },
  {
   "cell_type": "code",
   "execution_count": 12,
   "metadata": {},
   "outputs": [
    {
     "name": "stdout",
     "output_type": "stream",
     "text": [
      "___________________________________Model Selection_____________________________________\n",
      "Best estimator found by grid search: LogisticRegression(C=1, class_weight={0: 1, 1: 999}, dual=False,\n",
      "          fit_intercept=True, intercept_scaling=1, max_iter=100,\n",
      "          multi_class='ovr', n_jobs=1, penalty='l2', random_state=None,\n",
      "          solver='liblinear', tol=0.0001, verbose=0, warm_start=False)\n",
      "Best accuracy score found by grid search: 0.0663835507463\n",
      "\n",
      "_________________________________Model Prediction______________________________________\n",
      "F1-measure: 0.0606767794632\n",
      "\n",
      "-------------------------------------Accuracy-----------------------------------------\n",
      "Accuracy: 0.952892571656\n",
      "---------------------------------Confusion Matrix-------------------------------------\n",
      "TP 130\n",
      "TN 81288\n",
      "FP 4014\n",
      "FN 11\n"
     ]
    },
    {
     "data": {
      "image/png": "[encoded data removed]",
      "text/plain": [
       "<matplotlib.figure.Figure at 0x1f29876a630>"
      ]
     },
     "metadata": {},
     "output_type": "display_data"
    },
    {
     "name": "stdout",
     "output_type": "stream",
     "text": [
      "\n",
      "--------------------------------Precession and Recall---------------------------------\n",
      "             precision    recall  f1-score   support\n",
      "\n",
      "     Normal       1.00      0.95      0.98     85302\n",
      "      Fraud       0.03      0.92      0.06       141\n",
      "\n",
      "avg / total       1.00      0.95      0.97     85443\n",
      "\n"
     ]
    }
   ],
   "source": [
    "# Initialize classifier\n",
    "lgr = LogisticRegression(class_weight = {0: 1, 1: 999})\n",
    "\n",
    "# Declare parameters to tune\n",
    "C=np.arange(1,11,2)\n",
    "#class_weight =[{0: w} for w in [10, 20]]\n",
    "lgr_params = {'C':C}\n",
    "lgr_gs = GridSearchCV(lgr,lgr_params,scoring='f1',cv=5)\n",
    "lgr_gs.fit(X_train,y_train)\n",
    "print (\"___________________________________Model Selection_____________________________________\")\n",
    "print (\"Best estimator found by grid search:\",lgr_gs.best_estimator_)\n",
    "#print (\"Best parameters found by grid search:\",lgr_gs.best_params_)\n",
    "print (\"Best accuracy score found by grid search:\",lgr_gs.best_score_)\n",
    "print ()\n",
    "\n",
    "# Predict new values using best model derived from cross validation and test performance on the test set\n",
    "lgr_pred = lgr_gs.predict(X_test)\n",
    "lgr_prob = lgr_gs.predict_proba(X_test)\n",
    "lgr_score = lgr_gs.score(X_test, y_test)\n",
    "print (\"_________________________________Model Prediction______________________________________\")\n",
    "print ('F1-measure:', lgr_score)\n",
    "print ()\n",
    "classifier_measures(y_test,lgr_pred)"
   ]
  },
  {
   "cell_type": "code",
   "execution_count": 13,
   "metadata": {},
   "outputs": [
    {
     "name": "stdout",
     "output_type": "stream",
     "text": [
      "Fitting Time: 70.63075077994165 seconds\n"
     ]
    }
   ],
   "source": [
    "start = timeit.default_timer()\n",
    "lgr_gs.fit(X_train, y_train)\n",
    "stop = timeit.default_timer()\n",
    "print(\"Fitting Time: %s seconds\" % (stop - start))"
   ]
  },
  {
   "cell_type": "markdown",
   "metadata": {},
   "source": [
    "### SMOTE is Synthetic Minority Over-sampling technique which still has high risk of overfitting as other oversampling techniques. According to the results, the model could achieve 0.91 recall but only 0.05 precision. If the objective of this case only focuses on high lost recall and tolerates all the false alert, this method might be appropriate. However, setting a higher class-weight such as 1:999 could get even better recall figure, and the fitting time would even be shorter. Therefore, I would prefer using class-weight rather than SMOTE.\n",
    "### In this case, assume the objective it to achieve Fraud recall greater than 70% while Fraud precision would also be greater than 70%.  Therefore, company would not waste too much time to double check a lot of credit card transaction due to false alert. To balance the results, I would set class_weight as 1:15. To save training time, I will not try different class_weights in this exercise. However, to achieve better results in real case, I will also tune class_weight to find out the best parameter. "
   ]
  },
  {
   "cell_type": "markdown",
   "metadata": {},
   "source": [
    "## Model Comparison"
   ]
  },
  {
   "cell_type": "markdown",
   "metadata": {},
   "source": [
    "### In this exercise, I will use logistic regression, random forest and XGboost model. Generally, logistic regression would take less time to train but random forest would be more robust. SVM would take too much time to train for high dimentional data, while GradientBoostingClassifier doesn't have class_weight parameter. XGboost would provide better results because it would learn from its own mistakes and use approximation algorithms to reduce training time. "
   ]
  },
  {
   "cell_type": "markdown",
   "metadata": {},
   "source": [
    "### Logistic Regression"
   ]
  },
  {
   "cell_type": "code",
   "execution_count": 29,
   "metadata": {},
   "outputs": [
    {
     "name": "stdout",
     "output_type": "stream",
     "text": [
      "___________________________________Model Selection_____________________________________\n",
      "Best estimator found by grid search: LogisticRegression(C=1, class_weight={0: 1, 1: 15}, dual=False,\n",
      "          fit_intercept=True, intercept_scaling=1, max_iter=100,\n",
      "          multi_class='ovr', n_jobs=1, penalty='l2', random_state=None,\n",
      "          solver='liblinear', tol=0.0001, verbose=0, warm_start=False)\n",
      "Best accuracy score found by grid search: 0.791459581794\n",
      "\n",
      "_________________________________Model Prediction______________________________________\n",
      "F1-measure: 0.746753246753\n",
      "\n",
      "-------------------------------------Accuracy-----------------------------------------\n",
      "Accuracy: 0.999087110705\n",
      "---------------------------------Confusion Matrix-------------------------------------\n",
      "TP 115\n",
      "TN 85250\n",
      "FP 52\n",
      "FN 26\n"
     ]
    },
    {
     "data": {
      "image/png": "[encoded data removed]",
      "text/plain": [
       "<matplotlib.figure.Figure at 0x21d8bc3a048>"
      ]
     },
     "metadata": {},
     "output_type": "display_data"
    },
    {
     "name": "stdout",
     "output_type": "stream",
     "text": [
      "\n",
      "--------------------------------Precession and Recall---------------------------------\n",
      "             precision    recall  f1-score   support\n",
      "\n",
      "     Normal       1.00      1.00      1.00     85302\n",
      "      Fraud       0.69      0.82      0.75       141\n",
      "\n",
      "avg / total       1.00      1.00      1.00     85443\n",
      "\n"
     ]
    }
   ],
   "source": [
    "# Initialize classifier\n",
    "lgr = LogisticRegression(class_weight = {0: 1, 1: 15})\n",
    "\n",
    "# Declare parameters to tune\n",
    "C=np.arange(1,11,2)\n",
    "lgr_params = {'C':C}\n",
    "lgr_gs = GridSearchCV(lgr,lgr_params,scoring='f1',cv=5)\n",
    "lgr_gs.fit(X_train,y_train)\n",
    "print (\"___________________________________Model Selection_____________________________________\")\n",
    "print (\"Best estimator found by grid search:\",lgr_gs.best_estimator_)\n",
    "#print (\"Best parameters found by grid search:\",lgr_gs.best_params_)\n",
    "print (\"Best accuracy score found by grid search:\",lgr_gs.best_score_)\n",
    "print ()\n",
    "\n",
    "# Predict new values using best model derived from cross validation and test performance on the test set\n",
    "lgr_pred = lgr_gs.predict(X_test)\n",
    "lgr_prob = lgr_gs.predict_proba(X_test)\n",
    "lgr_score = lgr_gs.score(X_test, y_test)\n",
    "print (\"_________________________________Model Prediction______________________________________\")\n",
    "print ('F1-measure:', lgr_score)\n",
    "print ()\n",
    "classifier_measures(y_test,lgr_pred)"
   ]
  },
  {
   "cell_type": "markdown",
   "metadata": {},
   "source": [
    "### Random Forest"
   ]
  },
  {
   "cell_type": "code",
   "execution_count": 30,
   "metadata": {},
   "outputs": [
    {
     "name": "stdout",
     "output_type": "stream",
     "text": [
      "_________________________________Model Selection_____________________________________\n",
      "Best estimator found by grid search: RandomForestClassifier(bootstrap=True, class_weight={0: 1, 1: 15},\n",
      "            criterion='gini', max_depth=5, max_features='auto',\n",
      "            max_leaf_nodes=None, min_impurity_decrease=0.0,\n",
      "            min_impurity_split=None, min_samples_leaf=1,\n",
      "            min_samples_split=2, min_weight_fraction_leaf=0.0,\n",
      "            n_estimators=200, n_jobs=1, oob_score=False, random_state=None,\n",
      "            verbose=0, warm_start=False)\n",
      "Best parameters found by grid search: {'max_depth': 5, 'n_estimators': 200}\n",
      "Best accuracy score found by grid search: 0.845213965569\n",
      "\n",
      "________________________________Model Prediction_____________________________________\n",
      "F1-measure: 0.783882783883\n",
      "\n",
      "-------------------------------------Accuracy-----------------------------------------\n",
      "Accuracy: 0.999309481175\n",
      "---------------------------------Confusion Matrix-------------------------------------\n",
      "TP 107\n",
      "TN 85277\n",
      "FP 25\n",
      "FN 34\n"
     ]
    },
    {
     "data": {
      "image/png": "[encoded data removed]",
      "text/plain": [
       "<matplotlib.figure.Figure at 0x21d8b6dec50>"
      ]
     },
     "metadata": {},
     "output_type": "display_data"
    },
    {
     "name": "stdout",
     "output_type": "stream",
     "text": [
      "\n",
      "--------------------------------Precession and Recall---------------------------------\n",
      "             precision    recall  f1-score   support\n",
      "\n",
      "     Normal       1.00      1.00      1.00     85302\n",
      "      Fraud       0.81      0.76      0.78       141\n",
      "\n",
      "avg / total       1.00      1.00      1.00     85443\n",
      "\n"
     ]
    }
   ],
   "source": [
    "# Initialize classifier\n",
    "rf = RandomForestClassifier(class_weight = {0: 1, 1: 15})\n",
    "rf_params = {'max_depth':[2, 5], 'n_estimators':[150, 180, 200]}\n",
    "rf_gs = GridSearchCV(rf,rf_params,scoring='f1',cv=5)\n",
    "rf_gs.fit(X_train,y_train)\n",
    "print (\"_________________________________Model Selection_____________________________________\")\n",
    "print (\"Best estimator found by grid search:\",rf_gs.best_estimator_)\n",
    "print (\"Best parameters found by grid search:\",rf_gs.best_params_)\n",
    "print (\"Best accuracy score found by grid search:\",rf_gs.best_score_)\n",
    "print ()\n",
    "\n",
    "# Predict new values using best model derived from cross validation and test performance on the test set\n",
    "rf_pred = rf_gs.predict(X_test)\n",
    "rf_prob = rf_gs.predict_proba(X_test)\n",
    "rf_score = rf_gs.score(X_test, y_test)\n",
    "print (\"________________________________Model Prediction_____________________________________\")\n",
    "print ('F1-measure:', rf_score)\n",
    "print ()\n",
    "classifier_measures(y_test,rf_pred)"
   ]
  },
  {
   "cell_type": "code",
   "execution_count": 16,
   "metadata": {},
   "outputs": [
    {
     "name": "stdout",
     "output_type": "stream",
     "text": [
      "Fitting Time: 1607.4323735965809 seconds\n"
     ]
    }
   ],
   "source": [
    "start = timeit.default_timer()\n",
    "rf_gs.fit(X_train, y_train)\n",
    "stop = timeit.default_timer()\n",
    "print(\"Fitting Time: %s seconds\" % (stop - start))"
   ]
  },
  {
   "cell_type": "markdown",
   "metadata": {},
   "source": [
    "### XGboost\n",
    "To save time, I will only tune some parameters and it already got better results than other models. To improve the prediction performance, it's better to have more steps to tune the parameters. Details refer:\n",
    "https://www.analyticsvidhya.com/blog/2016/03/complete-guide-parameter-tuning-xgboost-with-codes-python/"
   ]
  },
  {
   "cell_type": "code",
   "execution_count": 12,
   "metadata": {},
   "outputs": [
    {
     "name": "stdout",
     "output_type": "stream",
     "text": [
      "_________________________________Model Selection_____________________________________\n",
      "Best estimator found by grid search: XGBClassifier(base_score=0.5, booster='gbtree', colsample_bylevel=1,\n",
      "       colsample_bytree=1, gamma=0, learning_rate=0.1, max_delta_step=0,\n",
      "       max_depth=5, min_child_weight=1, missing=None, n_estimators=180,\n",
      "       n_jobs=1, nthread=None, objective='binary:logistic', random_state=0,\n",
      "       reg_alpha=0, reg_lambda=1, scale_pos_weight=15, seed=123,\n",
      "       silent=True, subsample=1)\n",
      "Best parameters found by grid search: {'max_depth': 5, 'n_estimators': 180}\n",
      "Best accuracy score found by grid search: 0.871339282506\n",
      "\n",
      "________________________________Model Prediction_____________________________________\n",
      "F1-measure: 0.825278810409\n",
      "\n",
      "-------------------------------------Accuracy-----------------------------------------\n",
      "Accuracy: 0.999449925681\n",
      "---------------------------------Confusion Matrix-------------------------------------\n",
      "TP 111\n",
      "TN 85285\n",
      "FP 17\n",
      "FN 30\n"
     ]
    },
    {
     "data": {
      "image/png": "[encoded data removed]",
      "text/plain": [
       "<matplotlib.figure.Figure at 0x21d860fb5c0>"
      ]
     },
     "metadata": {},
     "output_type": "display_data"
    },
    {
     "name": "stdout",
     "output_type": "stream",
     "text": [
      "\n",
      "--------------------------------Precession and Recall---------------------------------\n",
      "             precision    recall  f1-score   support\n",
      "\n",
      "     Normal       1.00      1.00      1.00     85302\n",
      "      Fraud       0.87      0.79      0.83       141\n",
      "\n",
      "avg / total       1.00      1.00      1.00     85443\n",
      "\n"
     ]
    }
   ],
   "source": [
    "# Initialize classifier\n",
    "xgb = XGBClassifier( scale_pos_weight = 15,learning_rate =0.1,objective= 'binary:logistic',seed=123)\n",
    "xgb_params = {'max_depth':[2, 5], 'n_estimators':[150, 180, 200]}\n",
    "xgb_gs = GridSearchCV(xgb,xgb_params,scoring='f1',cv=5)\n",
    "xgb_gs.fit(X_train,y_train)\n",
    "print (\"_________________________________Model Selection_____________________________________\")\n",
    "print (\"Best estimator found by grid search:\",xgb_gs.best_estimator_)\n",
    "print (\"Best parameters found by grid search:\",xgb_gs.best_params_)\n",
    "print (\"Best accuracy score found by grid search:\",xgb_gs.best_score_)\n",
    "print ()\n",
    "\n",
    "# Predict new values using best model derived from cross validation and test performance on the test set\n",
    "xgb_pred = xgb_gs.predict(X_test)\n",
    "xgb_prob = xgb_gs.predict_proba(X_test)\n",
    "xgb_score = xgb_gs.score(X_test, y_test)\n",
    "print (\"________________________________Model Prediction_____________________________________\")\n",
    "print ('F1-measure:', xgb_score)\n",
    "print ()\n",
    "classifier_measures(y_test,xgb_pred)"
   ]
  },
  {
   "cell_type": "markdown",
   "metadata": {},
   "source": [
    "#### Feature importance"
   ]
  },
  {
   "cell_type": "code",
   "execution_count": 18,
   "metadata": {},
   "outputs": [
    {
     "data": {
      "image/png": "[encoded data removed]",
      "text/plain": [
       "<matplotlib.figure.Figure at 0x21d8b647c88>"
      ]
     },
     "metadata": {},
     "output_type": "display_data"
    }
   ],
   "source": [
    "plot_importance(xgb_gs.best_estimator_)\n",
    "plt.show()"
   ]
  },
  {
   "cell_type": "markdown",
   "metadata": {},
   "source": [
    "## ROC and AUC"
   ]
  },
  {
   "cell_type": "code",
   "execution_count": 31,
   "metadata": {},
   "outputs": [
    {
     "data": {
      "image/png": "[encoded data removed]",
      "text/plain": [
       "<matplotlib.figure.Figure at 0x21d8bbd6c88>"
      ]
     },
     "metadata": {},
     "output_type": "display_data"
    }
   ],
   "source": [
    "##roc curve\n",
    "fpr = dict()\n",
    "tpr = dict()\n",
    "threholds = dict()\n",
    "roc_auc = dict()\n",
    "classlabel = 1\n",
    "\n",
    "#Plot of a ROC curve for a specific class\n",
    "plt.figure()\n",
    "lw = 2\n",
    "\n",
    "fpr, tpr, thresholds = roc_curve(y_test, lgr_prob[:, classlabel])\n",
    "roc_auc = auc(fpr, tpr)\n",
    "plt.plot(fpr, tpr, color='darkred',\n",
    "         lw=lw, label='Logistic Regression ROC curve (area = {:.2f})'.format(roc_auc))\n",
    "\n",
    "fpr, tpr, thresholds = roc_curve(y_test, rf_prob[:, classlabel])\n",
    "roc_auc = auc(fpr, tpr)\n",
    "plt.plot(fpr, tpr, color='darkgreen',\n",
    "         lw=lw, label='Random Forest ROC curve (area = {:.2f})'.format(roc_auc))\n",
    "\n",
    "fpr, tpr, thresholds = roc_curve(y_test, xgb_prob[:, classlabel])\n",
    "roc_auc = auc(fpr, tpr)\n",
    "plt.plot(fpr, tpr, color='darkblue',\n",
    "         lw=lw, label='XGboost ROC curve (area = {:.2f})'.format(roc_auc))\n",
    "\n",
    "\n",
    "plt.plot([0, 1], [0, 1], color='grey', lw=lw, linestyle='--')\n",
    "plt.xlim([0.0, 1.0])\n",
    "plt.ylim([0.0, 1.05])\n",
    "plt.xlabel('False Positive Rate')\n",
    "plt.ylabel('True Positive Rate')\n",
    "plt.title('Receiver operating characteristic example')\n",
    "plt.legend(loc=\"lower right\")\n",
    "plt.show()"
   ]
  },
  {
   "cell_type": "markdown",
   "metadata": {},
   "source": [
    "## Model Selection"
   ]
  },
  {
   "cell_type": "markdown",
   "metadata": {},
   "source": [
    "#### In this case, XGboost performance surpasses other models, I will choose XGboost"
   ]
  },
  {
   "cell_type": "markdown",
   "metadata": {},
   "source": [
    "## Set Alert Threshold based on objectives\n",
    "### 1. I would set the optimal threhold that could maxmize f measure while maitain both fraud recall and fraud precision above 80%."
   ]
  },
  {
   "cell_type": "code",
   "execution_count": 19,
   "metadata": {},
   "outputs": [],
   "source": [
    "## Combine probability with actual Class\n",
    "prob = pd.Series(xgb_prob[:,1])\n",
    "target = y_test.reset_index()['Class']\n",
    "df_p = pd.DataFrame(dict(prob = prob, Class = target, Predict = \"\"))"
   ]
  },
  {
   "cell_type": "code",
   "execution_count": 20,
   "metadata": {},
   "outputs": [],
   "source": [
    "## Sort by probability from high to low\n",
    "df_sort = df_p.sort_values(by=['prob'],ascending=False)"
   ]
  },
  {
   "cell_type": "code",
   "execution_count": 27,
   "metadata": {},
   "outputs": [
    {
     "name": "stdout",
     "output_type": "stream",
     "text": [
      "Cut_off 0.18\n",
      "f1: 0.825622775801\n",
      "precision 0.828571428571\n",
      "recall 0.822695035461\n",
      "confusion matrix: [[85278    24]\n",
      " [   25   116]]\n",
      "accuracy 0.999426518264\n"
     ]
    }
   ],
   "source": [
    "f1_max = 0\n",
    "\n",
    "for i in range(99,1,-1):\n",
    "    cut_off = i/100\n",
    "    df_sort['Predict'] = np.where(df_sort['prob']>cut_off,1,0)\n",
    "    cmatrix = confusion_matrix(df_sort['Class'],df_sort['Predict'])\n",
    "    fraud_precision = cmatrix[1,1]/(cmatrix[0,1]+cmatrix[1,1])\n",
    "    fraud_recall = cmatrix[1,1]/(cmatrix[1,0]+cmatrix[1,1])\n",
    "    fraud_f1 = 2*fraud_precision*fraud_recall/(fraud_precision+fraud_recall)\n",
    "    accuracy = (cmatrix[0,0]+cmatrix[1,1])/(cmatrix[0,0]+cmatrix[1,1]+ cmatrix[0,1]+cmatrix[1,0])\n",
    "    \n",
    "    \n",
    "    if fraud_recall > 0.8 and fraud_precision > 0.8 and fraud_f1> f1_max:\n",
    "        f1_max = fraud_f1\n",
    "        precision_opt = fraud_precision\n",
    "        recall_opt = fraud_recall\n",
    "        cut_off_opt = cut_off\n",
    "        cmatrix_opt = cmatrix\n",
    "        accuracy_opt = accuracy\n",
    "        \n",
    "\n",
    "print(\"Cut_off\",cut_off_opt)\n",
    "print(\"f1:\",f1_max)\n",
    "print(\"precision\",precision_opt)\n",
    "print(\"recall\",recall_opt)\n",
    "print(\"confusion matrix:\", cmatrix_opt)\n",
    "print(\"accuracy\",accuracy_opt)"
   ]
  },
  {
   "cell_type": "markdown",
   "metadata": {},
   "source": [
    "### 2. I would set the optimal threhold that could maxmize f measure while maitain both fraud recall and fraud precision above 70%."
   ]
  },
  {
   "cell_type": "code",
   "execution_count": 25,
   "metadata": {},
   "outputs": [
    {
     "name": "stdout",
     "output_type": "stream",
     "text": [
      "Cut_off 0.95\n",
      "f1: 0.83137254902\n",
      "precision 0.929824561404\n",
      "recall 0.751773049645\n",
      "confusion matrix: [[85294     8]\n",
      " [   35   106]]\n",
      "accuracy 0.999496740517\n"
     ]
    }
   ],
   "source": [
    "f1_max = 0\n",
    "\n",
    "for i in range(99,1,-1):\n",
    "    cut_off = i/100\n",
    "    df_sort['Predict'] = np.where(df_sort['prob']>cut_off,1,0)\n",
    "    cmatrix = confusion_matrix(df_sort['Class'],df_sort['Predict'])\n",
    "    fraud_precision = cmatrix[1,1]/(cmatrix[0,1]+cmatrix[1,1])\n",
    "    fraud_recall = cmatrix[1,1]/(cmatrix[1,0]+cmatrix[1,1])\n",
    "    fraud_f1 = 2*fraud_precision*fraud_recall/(fraud_precision+fraud_recall)\n",
    "    accuracy = (cmatrix[0,0]+cmatrix[1,1])/(cmatrix[0,0]+cmatrix[1,1]+ cmatrix[0,1]+cmatrix[1,0])\n",
    "    \n",
    "    \n",
    "    if fraud_recall > 0.7 and fraud_precision > 0.7 and fraud_f1> f1_max:\n",
    "        f1_max = fraud_f1\n",
    "        precision_opt = fraud_precision\n",
    "        recall_opt = fraud_recall\n",
    "        cut_off_opt = cut_off\n",
    "        cmatrix_opt = cmatrix\n",
    "        accuracy_opt = accuracy\n",
    "        \n",
    "\n",
    "print(\"Cut_off\",cut_off_opt)\n",
    "print(\"f1:\",f1_max)\n",
    "print(\"precision\",precision_opt)\n",
    "print(\"recall\",recall_opt)\n",
    "print(\"confusion matrix:\", cmatrix_opt)\n",
    "print(\"accuracy\",accuracy_opt)"
   ]
  },
  {
   "cell_type": "markdown",
   "metadata": {},
   "source": [
    "###  To achieve different objectives, we could set different alert threshold. If we want to get high fraud recall rate, the cut_off value would be small such as 0.18, therefore we could reduce fraud by 83%. If we want to maintain the recall and precision both above 70%, we should set cut_off as 0.95, which could reduce almost 75% of the fraud while the precision would also be greater than 93%."
   ]
  }
 ],
 "metadata": {
  "anaconda-cloud": {},
  "kernelspec": {
   "display_name": "Python [conda root]",
   "language": "python",
   "name": "conda-root-py"
  },
  "language_info": {
   "codemirror_mode": {
    "name": "ipython",
    "version": 3
   },
   "file_extension": ".py",
   "mimetype": "text/x-python",
   "name": "python",
   "nbconvert_exporter": "python",
   "pygments_lexer": "ipython3",
   "version": "3.6.5"
  }
 },
 "nbformat": 4,
 "nbformat_minor": 1
}
